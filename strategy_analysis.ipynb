{
 "cells": [
  {
   "cell_type": "markdown",
   "id": "interpreted-worker",
   "metadata": {},
   "source": [
    "# Strategy Analysis\n",
    "\n",
    "This notebook provides the analysis of the various strategies created in the `mancala.strategy` script. We will look into:\n",
    "- running simulations to see which player strategy wins,\n",
    "- potentially running some simple statistical tests to check whether there is a meaningful difference, and\n",
    "- trying to look into the best moves across different strategies and simulations, e.g. is it always best to choose the goal making move if you are the starting player."
   ]
  },
  {
   "cell_type": "code",
   "execution_count": 7,
   "id": "literary-pakistan",
   "metadata": {},
   "outputs": [],
   "source": [
    "import json\n",
    "from collections import Counter\n",
    "from pprint import pprint\n",
    "from typing import Final\n",
    "\n",
    "from mancala.mancala import Player\n",
    "from mancala.simulation import SimulationLoop\n",
    "from mancala.strategy import (\n",
    "    AlwaysMaximumPlayerStrategy,\n",
    "    AlwaysMinimumPlayerStrategy,\n",
    "    EvenGoalOrPiecesOnOtherSideStrategy,\n",
    "    EvenGoalStealAndPiecesOnOtherSideStrategy,\n",
    "    ExampleRandomPlayerStrategy,\n",
    ")"
   ]
  },
  {
   "cell_type": "code",
   "execution_count": 21,
   "id": "secure-reynolds",
   "metadata": {},
   "outputs": [],
   "source": [
    "def run_simulation(loop: SimulationLoop, simulations: int = 5000) -> Counter:\n",
    "    winning_players = []\n",
    "    for _ in range(simulations):\n",
    "        loop.run(reset_simulation=True)\n",
    "        winning_players.append(loop.winning_player)\n",
    "    return Counter(winning_players)\n",
    "\n",
    "def pprint_simulation_results(loop: SimulationLoop) -> None:\n",
    "    pprint(json.loads(loop.serialize()))"
   ]
  },
  {
   "cell_type": "markdown",
   "id": "arabic-instrument",
   "metadata": {},
   "source": [
    "## Random v.s. Random\n",
    "\n",
    "With two random player strategies, we would expect that, except for ties, each player should win about the same amount of games. One curious thing to look into is whether there is a starting player advantage, i.e. does the starting player come with an advantage of winning more games?\n",
    "\n",
    "### With Player.ONE starting"
   ]
  },
  {
   "cell_type": "code",
   "execution_count": 27,
   "id": "compatible-permission",
   "metadata": {},
   "outputs": [
    {
     "name": "stdout",
     "output_type": "stream",
     "text": [
      "{'boards': [{'one': {'bins': [4, 4, 4, 4, 4, 4], 'goal': 0},\n",
      "             'two': {'bins': [4, 4, 4, 4, 4, 4], 'goal': 0}}],\n",
      " 'player_strategies': {'one': 'random-selection', 'two': 'random-selection'},\n",
      " 'starting_player': 'one',\n",
      " 'turns': [],\n",
      " 'winning_player': None}\n"
     ]
    }
   ],
   "source": [
    "rand_vs_rand_p1 = SimulationLoop(\n",
    "    player_one=ExampleRandomPlayerStrategy(),\n",
    "    player_two=ExampleRandomPlayerStrategy(),\n",
    "    starting_player=Player.ONE\n",
    ")\n",
    "pprint_simulation_results(rand_vs_rand_p1)"
   ]
  },
  {
   "cell_type": "code",
   "execution_count": 28,
   "id": "amino-albert",
   "metadata": {},
   "outputs": [
    {
     "name": "stdout",
     "output_type": "stream",
     "text": [
      "{'boards': [{'one': {'bins': [4, 4, 4, 4, 4, 4], 'goal': 0},\n",
      "             'two': {'bins': [4, 4, 4, 4, 4, 4], 'goal': 0}},\n",
      "            {'one': {'bins': [4, 5, 5, 5, 5, 0], 'goal': 0},\n",
      "             'two': {'bins': [4, 4, 4, 4, 4, 4], 'goal': 0}},\n",
      "            {'one': {'bins': [4, 5, 5, 5, 5, 0], 'goal': 0},\n",
      "             'two': {'bins': [4, 5, 5, 5, 5, 0], 'goal': 0}},\n",
      "            {'one': {'bins': [5, 6, 0, 5, 5, 0], 'goal': 1},\n",
      "             'two': {'bins': [4, 5, 5, 5, 6, 1], 'goal': 0}},\n",
      "            {'one': {'bins': [5, 6, 0, 5, 6, 1], 'goal': 1},\n",
      "             'two': {'bins': [5, 6, 0, 5, 6, 1], 'goal': 1}},\n",
      "            {'one': {'bins': [6, 0, 0, 5, 6, 1], 'goal': 2},\n",
      "             'two': {'bins': [5, 6, 1, 6, 7, 2], 'goal': 1}},\n",
      "            {'one': {'bins': [6, 0, 1, 6, 7, 2], 'goal': 2},\n",
      "             'two': {'bins': [6, 0, 1, 6, 7, 2], 'goal': 2}},\n",
      "            {'one': {'bins': [6, 0, 1, 7, 8, 0], 'goal': 2},\n",
      "             'two': {'bins': [6, 0, 1, 6, 7, 2], 'goal': 2}},\n",
      "            {'one': {'bins': [6, 1, 2, 8, 9, 1], 'goal': 2},\n",
      "             'two': {'bins': [0, 0, 1, 6, 7, 2], 'goal': 3}},\n",
      "            {'one': {'bins': [6, 1, 2, 8, 10, 0], 'goal': 2},\n",
      "             'two': {'bins': [0, 0, 1, 6, 7, 2], 'goal': 3}},\n",
      "            {'one': {'bins': [6, 1, 2, 8, 11, 1], 'goal': 2},\n",
      "             'two': {'bins': [1, 1, 2, 7, 0, 2], 'goal': 4}},\n",
      "            {'one': {'bins': [0, 1, 2, 8, 11, 1], 'goal': 3},\n",
      "             'two': {'bins': [1, 2, 3, 8, 1, 3], 'goal': 4}},\n",
      "            {'one': {'bins': [0, 1, 2, 8, 11, 1], 'goal': 3},\n",
      "             'two': {'bins': [1, 2, 3, 9, 0, 3], 'goal': 4}},\n",
      "            {'one': {'bins': [0, 0, 2, 8, 11, 1], 'goal': 5},\n",
      "             'two': {'bins': [0, 2, 3, 9, 0, 3], 'goal': 4}},\n",
      "            {'one': {'bins': [0, 0, 2, 8, 11, 1], 'goal': 5},\n",
      "             'two': {'bins': [1, 0, 3, 9, 0, 3], 'goal': 5}},\n",
      "            {'one': {'bins': [0, 1, 3, 9, 12, 2], 'goal': 5},\n",
      "             'two': {'bins': [2, 1, 4, 0, 0, 3], 'goal': 6}},\n",
      "            {'one': {'bins': [1, 2, 4, 10, 0, 3], 'goal': 6},\n",
      "             'two': {'bins': [3, 2, 5, 1, 1, 4], 'goal': 6}},\n",
      "            {'one': {'bins': [1, 2, 4, 10, 1, 4], 'goal': 6},\n",
      "             'two': {'bins': [0, 2, 5, 1, 1, 4], 'goal': 7}},\n",
      "            {'one': {'bins': [1, 3, 5, 11, 2, 0], 'goal': 6},\n",
      "             'two': {'bins': [0, 2, 5, 1, 1, 4], 'goal': 7}},\n",
      "            {'one': {'bins': [1, 3, 5, 11, 2, 0], 'goal': 6},\n",
      "             'two': {'bins': [0, 3, 6, 2, 2, 0], 'goal': 7}},\n",
      "            {'one': {'bins': [2, 4, 6, 0, 2, 0], 'goal': 9},\n",
      "             'two': {'bins': [1, 4, 7, 3, 3, 0], 'goal': 7}},\n",
      "            {'one': {'bins': [2, 4, 6, 0, 2, 0], 'goal': 9},\n",
      "             'two': {'bins': [1, 5, 8, 4, 0, 0], 'goal': 7}},\n",
      "            {'one': {'bins': [3, 5, 0, 0, 2, 0], 'goal': 10},\n",
      "             'two': {'bins': [1, 5, 8, 5, 1, 1], 'goal': 7}},\n",
      "            {'one': {'bins': [3, 5, 0, 0, 2, 0], 'goal': 10},\n",
      "             'two': {'bins': [1, 5, 8, 5, 2, 0], 'goal': 7}},\n",
      "            {'one': {'bins': [3, 5, 0, 1, 0, 0], 'goal': 19},\n",
      "             'two': {'bins': [1, 5, 0, 5, 2, 0], 'goal': 7}},\n",
      "            {'one': {'bins': [3, 5, 0, 1, 0, 1], 'goal': 19},\n",
      "             'two': {'bins': [2, 6, 1, 0, 2, 0], 'goal': 8}},\n",
      "            {'one': {'bins': [3, 5, 0, 0, 0, 1], 'goal': 21},\n",
      "             'two': {'bins': [2, 6, 0, 0, 2, 0], 'goal': 8}},\n",
      "            {'one': {'bins': [3, 5, 1, 1, 1, 2], 'goal': 21},\n",
      "             'two': {'bins': [3, 0, 0, 0, 2, 0], 'goal': 9}},\n",
      "            {'one': {'bins': [0, 5, 1, 1, 1, 2], 'goal': 22},\n",
      "             'two': {'bins': [3, 0, 0, 0, 3, 1], 'goal': 9}},\n",
      "            {'one': {'bins': [0, 5, 1, 1, 1, 2], 'goal': 22},\n",
      "             'two': {'bins': [3, 0, 0, 0, 4, 0], 'goal': 9}},\n",
      "            {'one': {'bins': [0, 6, 0, 1, 1, 2], 'goal': 22},\n",
      "             'two': {'bins': [3, 0, 0, 0, 4, 0], 'goal': 9}},\n",
      "            {'one': {'bins': [0, 6, 0, 1, 2, 3], 'goal': 22},\n",
      "             'two': {'bins': [0, 0, 0, 0, 4, 0], 'goal': 10}},\n",
      "            {'one': {'bins': [1, 0, 0, 1, 2, 3], 'goal': 23},\n",
      "             'two': {'bins': [0, 0, 1, 1, 5, 1], 'goal': 10}},\n",
      "            {'one': {'bins': [1, 0, 0, 1, 2, 3], 'goal': 23},\n",
      "             'two': {'bins': [1, 1, 2, 2, 0, 1], 'goal': 11}},\n",
      "            {'one': {'bins': [1, 0, 0, 1, 0, 3], 'goal': 23},\n",
      "             'two': {'bins': [1, 1, 2, 2, 0, 0], 'goal': 14}},\n",
      "            {'one': {'bins': [0, 0, 0, 1, 0, 3], 'goal': 24},\n",
      "             'two': {'bins': [1, 1, 2, 2, 0, 0], 'goal': 14}},\n",
      "            {'one': {'bins': [0, 0, 0, 0, 0, 3], 'goal': 27},\n",
      "             'two': {'bins': [1, 1, 0, 2, 0, 0], 'goal': 14}}],\n",
      " 'player_strategies': {'one': 'random-selection', 'two': 'random-selection'},\n",
      " 'starting_player': 'one',\n",
      " 'turns': [{'player': 'one', 'selected_bin': 5},\n",
      "           {'player': 'two', 'selected_bin': 5},\n",
      "           {'player': 'one', 'selected_bin': 2},\n",
      "           {'player': 'two', 'selected_bin': 2},\n",
      "           {'player': 'one', 'selected_bin': 1},\n",
      "           {'player': 'two', 'selected_bin': 1},\n",
      "           {'player': 'one', 'selected_bin': 5},\n",
      "           {'player': 'two', 'selected_bin': 0},\n",
      "           {'player': 'one', 'selected_bin': 5},\n",
      "           {'player': 'two', 'selected_bin': 4},\n",
      "           {'player': 'one', 'selected_bin': 0},\n",
      "           {'player': 'two', 'selected_bin': 4},\n",
      "           {'player': 'one', 'selected_bin': 1},\n",
      "           {'player': 'two', 'selected_bin': 1},\n",
      "           {'player': 'two', 'selected_bin': 3},\n",
      "           {'player': 'one', 'selected_bin': 4},\n",
      "           {'player': 'two', 'selected_bin': 0},\n",
      "           {'player': 'one', 'selected_bin': 5},\n",
      "           {'player': 'two', 'selected_bin': 5},\n",
      "           {'player': 'one', 'selected_bin': 3},\n",
      "           {'player': 'two', 'selected_bin': 4},\n",
      "           {'player': 'one', 'selected_bin': 2},\n",
      "           {'player': 'two', 'selected_bin': 5},\n",
      "           {'player': 'one', 'selected_bin': 4},\n",
      "           {'player': 'two', 'selected_bin': 3},\n",
      "           {'player': 'one', 'selected_bin': 3},\n",
      "           {'player': 'two', 'selected_bin': 1},\n",
      "           {'player': 'one', 'selected_bin': 0},\n",
      "           {'player': 'two', 'selected_bin': 5},\n",
      "           {'player': 'one', 'selected_bin': 2},\n",
      "           {'player': 'two', 'selected_bin': 0},\n",
      "           {'player': 'one', 'selected_bin': 1},\n",
      "           {'player': 'two', 'selected_bin': 4},\n",
      "           {'player': 'two', 'selected_bin': 5},\n",
      "           {'player': 'one', 'selected_bin': 0},\n",
      "           {'player': 'one', 'selected_bin': 3}],\n",
      " 'winning_player': 'one'}\n"
     ]
    }
   ],
   "source": [
    "rand_vs_rand_p1.run()\n",
    "pprint_simulation_results(rand_vs_rand_p1)"
   ]
  },
  {
   "cell_type": "code",
   "execution_count": 29,
   "id": "dominant-dance",
   "metadata": {},
   "outputs": [
    {
     "name": "stdout",
     "output_type": "stream",
     "text": [
      "CPU times: user 10.1 s, sys: 5.88 ms, total: 10.1 s\n",
      "Wall time: 10.1 s\n"
     ]
    },
    {
     "data": {
      "text/plain": [
       "Counter({<Player.TWO: 1>: 2297, <Player.ONE: 0>: 2392, None: 311})"
      ]
     },
     "execution_count": 29,
     "metadata": {},
     "output_type": "execute_result"
    }
   ],
   "source": [
    "%%time\n",
    "\n",
    "rand_vs_rand_p1_results = run_simulation(rand_vs_rand_p1)\n",
    "rand_vs_rand_p1_results"
   ]
  },
  {
   "cell_type": "markdown",
   "id": "grave-fourth",
   "metadata": {},
   "source": [
    "### With Player.TWO starting"
   ]
  },
  {
   "cell_type": "code",
   "execution_count": 30,
   "id": "undefined-celebrity",
   "metadata": {},
   "outputs": [
    {
     "name": "stdout",
     "output_type": "stream",
     "text": [
      "{'boards': [{'one': {'bins': [4, 4, 4, 4, 4, 4], 'goal': 0},\n",
      "             'two': {'bins': [4, 4, 4, 4, 4, 4], 'goal': 0}}],\n",
      " 'player_strategies': {'one': 'random-selection', 'two': 'random-selection'},\n",
      " 'starting_player': 'two',\n",
      " 'turns': [],\n",
      " 'winning_player': None}\n"
     ]
    }
   ],
   "source": [
    "rand_vs_rand_p2 = SimulationLoop(\n",
    "    player_one=ExampleRandomPlayerStrategy(),\n",
    "    player_two=ExampleRandomPlayerStrategy(),\n",
    "    starting_player=Player.TWO\n",
    ")\n",
    "pprint_simulation_results(rand_vs_rand_p2)"
   ]
  },
  {
   "cell_type": "code",
   "execution_count": 31,
   "id": "secondary-folks",
   "metadata": {},
   "outputs": [
    {
     "name": "stdout",
     "output_type": "stream",
     "text": [
      "{'boards': [{'one': {'bins': [4, 4, 4, 4, 4, 4], 'goal': 0},\n",
      "             'two': {'bins': [4, 4, 4, 4, 4, 4], 'goal': 0}},\n",
      "            {'one': {'bins': [4, 4, 4, 4, 4, 5], 'goal': 0},\n",
      "             'two': {'bins': [5, 5, 0, 4, 4, 4], 'goal': 1}},\n",
      "            {'one': {'bins': [5, 5, 5, 0, 4, 5], 'goal': 1},\n",
      "             'two': {'bins': [5, 5, 0, 4, 4, 4], 'goal': 1}},\n",
      "            {'one': {'bins': [6, 0, 5, 0, 4, 5], 'goal': 2},\n",
      "             'two': {'bins': [5, 5, 0, 5, 5, 5], 'goal': 1}},\n",
      "            {'one': {'bins': [6, 0, 5, 0, 4, 5], 'goal': 2},\n",
      "             'two': {'bins': [6, 6, 1, 6, 0, 5], 'goal': 2}},\n",
      "            {'one': {'bins': [6, 0, 5, 0, 4, 5], 'goal': 2},\n",
      "             'two': {'bins': [7, 7, 2, 7, 1, 0], 'goal': 2}},\n",
      "            {'one': {'bins': [7, 1, 6, 1, 0, 5], 'goal': 2},\n",
      "             'two': {'bins': [7, 7, 2, 7, 1, 0], 'goal': 2}},\n",
      "            {'one': {'bins': [7, 1, 6, 1, 0, 5], 'goal': 2},\n",
      "             'two': {'bins': [7, 7, 2, 8, 0, 0], 'goal': 2}},\n",
      "            {'one': {'bins': [0, 1, 6, 1, 0, 5], 'goal': 3},\n",
      "             'two': {'bins': [8, 8, 3, 9, 1, 1], 'goal': 2}},\n",
      "            {'one': {'bins': [0, 1, 6, 1, 0, 5], 'goal': 3},\n",
      "             'two': {'bins': [8, 8, 3, 10, 0, 1], 'goal': 2}},\n",
      "            {'one': {'bins': [0, 0, 6, 1, 0, 5], 'goal': 12},\n",
      "             'two': {'bins': [0, 8, 3, 10, 0, 1], 'goal': 2}},\n",
      "            {'one': {'bins': [1, 1, 7, 2, 1, 6], 'goal': 12},\n",
      "             'two': {'bins': [1, 0, 3, 10, 0, 1], 'goal': 3}},\n",
      "            {'one': {'bins': [1, 1, 7, 3, 0, 6], 'goal': 12},\n",
      "             'two': {'bins': [1, 0, 3, 10, 0, 1], 'goal': 3}},\n",
      "            {'one': {'bins': [1, 1, 7, 3, 0, 6], 'goal': 12},\n",
      "             'two': {'bins': [2, 1, 0, 10, 0, 1], 'goal': 4}},\n",
      "            {'one': {'bins': [2, 2, 8, 4, 1, 7], 'goal': 12},\n",
      "             'two': {'bins': [3, 2, 1, 0, 0, 1], 'goal': 5}},\n",
      "            {'one': {'bins': [3, 3, 9, 0, 1, 7], 'goal': 13},\n",
      "             'two': {'bins': [3, 2, 1, 0, 0, 1], 'goal': 5}},\n",
      "            {'one': {'bins': [0, 3, 9, 0, 1, 7], 'goal': 14},\n",
      "             'two': {'bins': [3, 2, 1, 0, 1, 2], 'goal': 5}},\n",
      "            {'one': {'bins': [0, 3, 9, 0, 1, 7], 'goal': 14},\n",
      "             'two': {'bins': [3, 2, 1, 1, 2, 0], 'goal': 5}},\n",
      "            {'one': {'bins': [0, 3, 9, 0, 0, 7], 'goal': 16},\n",
      "             'two': {'bins': [3, 2, 1, 0, 2, 0], 'goal': 5}},\n",
      "            {'one': {'bins': [0, 3, 9, 0, 0, 7], 'goal': 16},\n",
      "             'two': {'bins': [3, 3, 0, 0, 2, 0], 'goal': 5}},\n",
      "            {'one': {'bins': [1, 4, 0, 0, 0, 7], 'goal': 17},\n",
      "             'two': {'bins': [4, 4, 1, 1, 3, 1], 'goal': 5}},\n",
      "            {'one': {'bins': [1, 4, 0, 1, 1, 8], 'goal': 17},\n",
      "             'two': {'bins': [0, 4, 1, 1, 3, 1], 'goal': 6}},\n",
      "            {'one': {'bins': [0, 4, 0, 1, 1, 8], 'goal': 18},\n",
      "             'two': {'bins': [0, 4, 1, 1, 3, 1], 'goal': 6}},\n",
      "            {'one': {'bins': [0, 4, 0, 2, 0, 8], 'goal': 18},\n",
      "             'two': {'bins': [0, 4, 1, 1, 3, 1], 'goal': 6}},\n",
      "            {'one': {'bins': [0, 4, 0, 2, 0, 8], 'goal': 18},\n",
      "             'two': {'bins': [0, 4, 1, 1, 4, 0], 'goal': 6}},\n",
      "            {'one': {'bins': [0, 5, 1, 0, 0, 8], 'goal': 18},\n",
      "             'two': {'bins': [0, 4, 1, 1, 4, 0], 'goal': 6}},\n",
      "            {'one': {'bins': [0, 5, 1, 0, 0, 8], 'goal': 18},\n",
      "             'two': {'bins': [0, 4, 2, 0, 4, 0], 'goal': 6}},\n",
      "            {'one': {'bins': [1, 6, 2, 1, 1, 0], 'goal': 19},\n",
      "             'two': {'bins': [0, 4, 2, 0, 5, 1], 'goal': 6}},\n",
      "            {'one': {'bins': [1, 6, 2, 1, 2, 1], 'goal': 19},\n",
      "             'two': {'bins': [1, 0, 2, 0, 5, 1], 'goal': 7}},\n",
      "            {'one': {'bins': [2, 7, 0, 1, 2, 1], 'goal': 19},\n",
      "             'two': {'bins': [1, 0, 2, 0, 5, 1], 'goal': 7}},\n",
      "            {'one': {'bins': [2, 7, 0, 1, 2, 1], 'goal': 19},\n",
      "             'two': {'bins': [0, 0, 2, 0, 5, 1], 'goal': 8}},\n",
      "            {'one': {'bins': [2, 7, 0, 1, 2, 1], 'goal': 19},\n",
      "             'two': {'bins': [1, 1, 3, 1, 0, 1], 'goal': 9}},\n",
      "            {'one': {'bins': [2, 7, 0, 1, 2, 1], 'goal': 19},\n",
      "             'two': {'bins': [1, 1, 4, 0, 0, 1], 'goal': 9}},\n",
      "            {'one': {'bins': [2, 7, 0, 0, 2, 1], 'goal': 24},\n",
      "             'two': {'bins': [1, 1, 0, 0, 0, 1], 'goal': 9}},\n",
      "            {'one': {'bins': [2, 7, 0, 0, 2, 1], 'goal': 24},\n",
      "             'two': {'bins': [2, 0, 0, 0, 0, 1], 'goal': 9}},\n",
      "            {'one': {'bins': [2, 7, 1, 1, 0, 1], 'goal': 24},\n",
      "             'two': {'bins': [2, 0, 0, 0, 0, 1], 'goal': 9}},\n",
      "            {'one': {'bins': [2, 7, 1, 1, 0, 2], 'goal': 24},\n",
      "             'two': {'bins': [0, 0, 0, 0, 0, 1], 'goal': 10}},\n",
      "            {'one': {'bins': [2, 8, 0, 1, 0, 2], 'goal': 24},\n",
      "             'two': {'bins': [0, 0, 0, 0, 0, 1], 'goal': 10}},\n",
      "            {'one': {'bins': [2, 8, 0, 1, 0, 2], 'goal': 24},\n",
      "             'two': {'bins': [0, 0, 0, 0, 1, 0], 'goal': 10}},\n",
      "            {'one': {'bins': [2, 8, 0, 2, 1, 0], 'goal': 24},\n",
      "             'two': {'bins': [0, 0, 0, 0, 1, 0], 'goal': 10}},\n",
      "            {'one': {'bins': [2, 8, 0, 0, 1, 0], 'goal': 24},\n",
      "             'two': {'bins': [0, 0, 0, 0, 0, 0], 'goal': 13}},\n",
      "            {'one': {'bins': [0, 8, 0, 0, 1, 0], 'goal': 25},\n",
      "             'two': {'bins': [0, 0, 0, 0, 0, 1], 'goal': 13}}],\n",
      " 'player_strategies': {'one': 'random-selection', 'two': 'random-selection'},\n",
      " 'starting_player': 'two',\n",
      " 'turns': [{'player': 'two', 'selected_bin': 2},\n",
      "           {'player': 'one', 'selected_bin': 3},\n",
      "           {'player': 'one', 'selected_bin': 1},\n",
      "           {'player': 'two', 'selected_bin': 4},\n",
      "           {'player': 'two', 'selected_bin': 5},\n",
      "           {'player': 'one', 'selected_bin': 4},\n",
      "           {'player': 'two', 'selected_bin': 4},\n",
      "           {'player': 'one', 'selected_bin': 0},\n",
      "           {'player': 'two', 'selected_bin': 4},\n",
      "           {'player': 'one', 'selected_bin': 1},\n",
      "           {'player': 'two', 'selected_bin': 1},\n",
      "           {'player': 'one', 'selected_bin': 4},\n",
      "           {'player': 'two', 'selected_bin': 2},\n",
      "           {'player': 'two', 'selected_bin': 3},\n",
      "           {'player': 'one', 'selected_bin': 3},\n",
      "           {'player': 'one', 'selected_bin': 0},\n",
      "           {'player': 'two', 'selected_bin': 5},\n",
      "           {'player': 'one', 'selected_bin': 4},\n",
      "           {'player': 'two', 'selected_bin': 2},\n",
      "           {'player': 'one', 'selected_bin': 2},\n",
      "           {'player': 'two', 'selected_bin': 0},\n",
      "           {'player': 'one', 'selected_bin': 0},\n",
      "           {'player': 'one', 'selected_bin': 4},\n",
      "           {'player': 'two', 'selected_bin': 5},\n",
      "           {'player': 'one', 'selected_bin': 3},\n",
      "           {'player': 'two', 'selected_bin': 3},\n",
      "           {'player': 'one', 'selected_bin': 5},\n",
      "           {'player': 'two', 'selected_bin': 1},\n",
      "           {'player': 'one', 'selected_bin': 2},\n",
      "           {'player': 'two', 'selected_bin': 0},\n",
      "           {'player': 'two', 'selected_bin': 4},\n",
      "           {'player': 'two', 'selected_bin': 3},\n",
      "           {'player': 'one', 'selected_bin': 3},\n",
      "           {'player': 'two', 'selected_bin': 1},\n",
      "           {'player': 'one', 'selected_bin': 4},\n",
      "           {'player': 'two', 'selected_bin': 0},\n",
      "           {'player': 'one', 'selected_bin': 2},\n",
      "           {'player': 'two', 'selected_bin': 5},\n",
      "           {'player': 'one', 'selected_bin': 5},\n",
      "           {'player': 'two', 'selected_bin': 4},\n",
      "           {'player': 'one', 'selected_bin': 0}],\n",
      " 'winning_player': 'one'}\n"
     ]
    }
   ],
   "source": [
    "rand_vs_rand_p2.run()\n",
    "pprint_simulation_results(rand_vs_rand_p2)"
   ]
  },
  {
   "cell_type": "code",
   "execution_count": 32,
   "id": "artistic-delay",
   "metadata": {},
   "outputs": [
    {
     "name": "stdout",
     "output_type": "stream",
     "text": [
      "CPU times: user 10.2 s, sys: 36.1 ms, total: 10.2 s\n",
      "Wall time: 10.2 s\n"
     ]
    },
    {
     "data": {
      "text/plain": [
       "Counter({<Player.TWO: 1>: 2384, <Player.ONE: 0>: 2306, None: 310})"
      ]
     },
     "execution_count": 32,
     "metadata": {},
     "output_type": "execute_result"
    }
   ],
   "source": [
    "%%time\n",
    "\n",
    "rand_vs_rand_p2_results = run_simulation(rand_vs_rand_p2)\n",
    "rand_vs_rand_p2_results"
   ]
  },
  {
   "cell_type": "code",
   "execution_count": null,
   "id": "hispanic-warrant",
   "metadata": {},
   "outputs": [],
   "source": []
  }
 ],
 "metadata": {
  "kernelspec": {
   "display_name": "Python 3",
   "language": "python",
   "name": "python3"
  },
  "language_info": {
   "codemirror_mode": {
    "name": "ipython",
    "version": 3
   },
   "file_extension": ".py",
   "mimetype": "text/x-python",
   "name": "python",
   "nbconvert_exporter": "python",
   "pygments_lexer": "ipython3",
   "version": "3.8.0"
  }
 },
 "nbformat": 4,
 "nbformat_minor": 5
}
