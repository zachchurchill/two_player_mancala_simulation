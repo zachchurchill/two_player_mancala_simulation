{
 "cells": [
  {
   "cell_type": "code",
   "execution_count": null,
   "id": "literary-pakistan",
   "metadata": {},
   "outputs": [],
   "source": [
    "import os\n",
    "import json\n",
    "import sys\n",
    "from collections import Counter\n",
    "from pprint import pprint\n",
    "\n",
    "from IPython.display import Markdown as md\n",
    "\n",
    "sys.path.append(os.path.abspath(os.path.join(os.getcwd(), \"..\")))\n",
    "import mancala.strategy\n",
    "from mancala.mancala import Player\n",
    "from mancala.simulation import SimulationLoop\n",
    "\n",
    "RAW_PLAYER_ONE_STRATEGY = os.environ[\"MANCALA_PLAYER_ONE\"]\n",
    "RAW_PLAYER_TWO_STRATEGY = os.environ[\"MANCALA_PLAYER_TWO\"]\n",
    "\n",
    "PLAYER_ONE_STRATEGY = getattr(mancala.strategy, RAW_PLAYER_ONE_STRATEGY)\n",
    "PLAYER_TWO_STRATEGY = getattr(mancala.strategy, RAW_PLAYER_TWO_STRATEGY)\n",
    "\n",
    "def run_simulation(loop: SimulationLoop, simulations: int = 5000) -> Counter:\n",
    "    winning_players = []\n",
    "    for _ in range(simulations):\n",
    "        loop.run(reset_simulation=True)\n",
    "        winning_players.append(loop.winning_player)\n",
    "    return Counter(winning_players)\n",
    "\n",
    "def pprint_simulation_results(loop: SimulationLoop) -> None:\n",
    "    pprint(json.loads(loop.serialize()))\n",
    "    \n",
    "md(f\"\"\"\n",
    "# {RAW_PLAYER_ONE_STRATEGY} v.s. {RAW_PLAYER_TWO_STRATEGY}\n",
    "\"\"\")"
   ]
  },
  {
   "cell_type": "markdown",
   "id": "arabic-instrument",
   "metadata": {},
   "source": [
    "### With Player.ONE starting"
   ]
  },
  {
   "cell_type": "code",
   "execution_count": null,
   "id": "compatible-permission",
   "metadata": {},
   "outputs": [],
   "source": [
    "p1_starting_loop = SimulationLoop(\n",
    "    player_one=PLAYER_ONE_STRATEGY(),\n",
    "    player_two=PLAYER_TWO_STRATEGY(),\n",
    "    starting_player=Player.ONE\n",
    ")\n",
    "pprint_simulation_results(p1_starting_loop)"
   ]
  },
  {
   "cell_type": "code",
   "execution_count": null,
   "id": "amino-albert",
   "metadata": {},
   "outputs": [],
   "source": [
    "p1_starting_loop.run()\n",
    "pprint_simulation_results(p1_starting_loop)"
   ]
  },
  {
   "cell_type": "code",
   "execution_count": null,
   "id": "dominant-dance",
   "metadata": {},
   "outputs": [],
   "source": [
    "%%time\n",
    "\n",
    "p1_starting_loop_results = run_simulation(p1_starting_loop)\n",
    "p1_starting_loop_results"
   ]
  },
  {
   "cell_type": "markdown",
   "id": "grave-fourth",
   "metadata": {},
   "source": [
    "### With Player.TWO starting"
   ]
  },
  {
   "cell_type": "code",
   "execution_count": null,
   "id": "undefined-celebrity",
   "metadata": {},
   "outputs": [],
   "source": [
    "p2_starting_loop = SimulationLoop(\n",
    "    player_one=PLAYER_ONE_STRATEGY(),\n",
    "    player_two=PLAYER_TWO_STRATEGY(),\n",
    "    starting_player=Player.TWO\n",
    ")\n",
    "pprint_simulation_results(p2_starting_loop)"
   ]
  },
  {
   "cell_type": "code",
   "execution_count": null,
   "id": "secondary-folks",
   "metadata": {},
   "outputs": [],
   "source": [
    "p2_starting_loop.run()\n",
    "pprint_simulation_results(p2_starting_loop)"
   ]
  },
  {
   "cell_type": "code",
   "execution_count": null,
   "id": "artistic-delay",
   "metadata": {},
   "outputs": [],
   "source": [
    "%%time\n",
    "\n",
    "p2_starting_loop_results = run_simulation(p2_starting_loop)\n",
    "p2_starting_loop_results"
   ]
  }
 ],
 "metadata": {
  "kernelspec": {
   "display_name": "Python 3",
   "language": "python",
   "name": "python3"
  },
  "language_info": {
   "codemirror_mode": {
    "name": "ipython",
    "version": 3
   },
   "file_extension": ".py",
   "mimetype": "text/x-python",
   "name": "python",
   "nbconvert_exporter": "python",
   "pygments_lexer": "ipython3",
   "version": "3.8.0"
  }
 },
 "nbformat": 4,
 "nbformat_minor": 5
}
